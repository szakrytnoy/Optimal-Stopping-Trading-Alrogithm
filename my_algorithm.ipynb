{
 "cells": [
  {
   "cell_type": "code",
   "execution_count": 1,
   "metadata": {
    "collapsed": true
   },
   "outputs": [],
   "source": [
    "import matplotlib.pyplot as plt\n",
    "import pandas as pd\n",
    "import bisect\n",
    "from IPython.display import clear_output"
   ]
  },
  {
   "cell_type": "code",
   "execution_count": 2,
   "metadata": {},
   "outputs": [
    {
     "name": "stdout",
     "output_type": "stream",
     "text": [
      "                       Close\n",
      "Date       Time             \n",
      "2017-01-01 22:00:00  64.3460\n",
      "           23:00:00  64.3580\n",
      "2017-01-02 00:00:00  64.3610\n",
      "           01:00:00  64.7335\n",
      "           02:00:00  64.7369\n"
     ]
    }
   ],
   "source": [
    "data_pd = pd.read_excel('eur2017_hours.xls', index_col = [0, 1])\n",
    "print(data_pd.head())"
   ]
  },
  {
   "cell_type": "code",
   "execution_count": 3,
   "metadata": {},
   "outputs": [
    {
     "name": "stdout",
     "output_type": "stream",
     "text": [
      "[64.346, 64.358, 64.361, 64.7335, 64.7369]\n",
      "[-64.346, -64.358, -64.361, -64.7335, -64.7369]\n"
     ]
    }
   ],
   "source": [
    "data = data_pd['Close'].tolist()\n",
    "length = len(data)\n",
    "\n",
    "data_neg = [0 for i in range(length)]\n",
    "for i in range(length):\n",
    "    data_neg[i] = -data[i]\n",
    "    \n",
    "print(data[:5])\n",
    "print(data_neg[:5])"
   ]
  },
  {
   "cell_type": "code",
   "execution_count": 4,
   "metadata": {
    "collapsed": true
   },
   "outputs": [],
   "source": [
    "def find_g_key(n, m):\n",
    "    #Create arrays for h and all the g's\n",
    "    h = [0 for x in range(n+1)]\n",
    "    g = [[0 for x in range(n+1)] for y in range(m+1)]\n",
    "    g_key = [0 for x in range(m+1)]\n",
    "\n",
    "    h[n] = 0\n",
    "\n",
    "    for k in range(1, m+1):\n",
    "        g[k][n] = 1\n",
    "\n",
    "    for t in reversed(range(1, n)):\n",
    "        g[m][t] = (t-m+1)/(t+1)*g[m][t+1]\n",
    "\n",
    "        sum_max = 0\n",
    "        for k in reversed(range(1, m+1)):\n",
    "            sum_max = sum_max + max(h[t+1], g[k][t+1])\n",
    "\n",
    "            if k<m:\n",
    "                g[k][t] = k/(t+1)*g[k+1][t+1] + (t-k+1)/(t+1)*g[k][t+1]\n",
    "\n",
    "        h[t] = 1/(t+1)*sum_max + (t+1-m)/(t+1)*h[t+1]\n",
    "\n",
    "        for k in range(1, m+1):\n",
    "            if g[k][t] < h[t]:\n",
    "                if g_key[k] == 0:\n",
    "                    g_key[k] = t\n",
    "    return g_key"
   ]
  },
  {
   "cell_type": "code",
   "execution_count": 5,
   "metadata": {
    "collapsed": true
   },
   "outputs": [],
   "source": [
    "results = pd.DataFrame(columns = ('bought', 'day_of_min', 'X_lowest', 'sold', 'day_of_max', 'X_highest', 'return', 'margin_potential'))"
   ]
  },
  {
   "cell_type": "code",
   "execution_count": 6,
   "metadata": {},
   "outputs": [
    {
     "data": {
      "text/plain": [
       "[0, 31, 43, 52, 60, 67, 73, 78, 83, 88, 93]"
      ]
     },
     "execution_count": 6,
     "metadata": {},
     "output_type": "execute_result"
    }
   ],
   "source": [
    "g_key = find_g_key(100, 10)\n",
    "g_key"
   ]
  },
  {
   "cell_type": "code",
   "execution_count": 7,
   "metadata": {},
   "outputs": [
    {
     "name": "stdout",
     "output_type": "stream",
     "text": [
      "        Date      Time    Close  positions\n",
      "0 2017-01-01  22:00:00  64.3460        0.0\n",
      "1 2017-01-01  23:00:00  64.3580        0.0\n",
      "2 2017-01-02  00:00:00  64.3610        0.0\n",
      "3 2017-01-02  01:00:00  64.7335        0.0\n",
      "4 2017-01-02  02:00:00  64.7369        0.0\n"
     ]
    }
   ],
   "source": [
    "signals = pd.read_excel('eur2017_hours.xls')\n",
    "signals['positions'] = 0.0\n",
    "print(signals.head())"
   ]
  },
  {
   "cell_type": "code",
   "execution_count": 8,
   "metadata": {},
   "outputs": [
    {
     "name": "stderr",
     "output_type": "stream",
     "text": [
      "C:\\ProgramData\\Anaconda3\\lib\\site-packages\\pandas\\core\\indexing.py:179: SettingWithCopyWarning: \n",
      "A value is trying to be set on a copy of a slice from a DataFrame\n",
      "\n",
      "See the caveats in the documentation: http://pandas.pydata.org/pandas-docs/stable/indexing.html#indexing-view-versus-copy\n",
      "  self._setitem_with_indexer(indexer, value)\n"
     ]
    }
   ],
   "source": [
    "n = 100\n",
    "m = 10\n",
    "\n",
    "min_success_counter = 0\n",
    "max_success_counter = 0\n",
    "\n",
    "for j in range(length-n+1):\n",
    "    a = []\n",
    "    a_neg = []\n",
    "    chosen_min = 0\n",
    "    chosen_max = 0\n",
    "\n",
    "    ser = []\n",
    "\n",
    "    for i in range(j, j+n):         \n",
    "        new_value = data[i]\n",
    "\n",
    "        ser.append(new_value)\n",
    "\n",
    "        position = bisect.bisect_left(a, new_value) + 1\n",
    "        bisect.insort_left(a, new_value)\n",
    "\n",
    "        number_parsed = len(a)\n",
    "\n",
    "        for k in range(1, m+1):\n",
    "            if number_parsed > g_key[k] and position <= k and chosen_min == 0:\n",
    "                chosen_min = new_value\n",
    "                signals['positions'].iloc[i] += 1\n",
    "                chosen_min_i = i+1-j\n",
    "\n",
    "        new_value = data_neg[i]\n",
    "\n",
    "        position = bisect.bisect_left(a_neg, new_value) + 1\n",
    "        bisect.insort_left(a_neg, new_value)\n",
    "\n",
    "        number_parsed = len(a_neg)\n",
    "\n",
    "        for k in range(1, m+1):\n",
    "            if number_parsed > g_key[k] and position <= k and chosen_max == 0:\n",
    "                chosen_max = -new_value\n",
    "                signals['positions'].iloc[i] -= 1\n",
    "                chosen_max_i = i+1-j\n",
    "\n",
    "    if chosen_max == 0:\n",
    "        chosen_max = -new_value\n",
    "        chosen_max_i = n\n",
    "\n",
    "    if chosen_min == 0:\n",
    "        chosen_min = -new_value\n",
    "        chosen_min_i = n\n",
    "\n",
    "    real_max = max(a)\n",
    "    real_min = min(a)\n",
    "    real_gap = real_max - real_min\n",
    "    my_margin = chosen_max - chosen_min\n",
    "    my_return = my_margin/(sum(a)/len(a))\n",
    "    margin_potential = my_margin/real_gap*100\n",
    "\n",
    "    chosen_min_pos = a.index(chosen_min)+1 \n",
    "    chosen_max_pos = a_neg.index(-chosen_max)+1\n",
    "\n",
    "    results.loc[j] = [chosen_min, chosen_min_i, chosen_min_pos, chosen_max, chosen_max_i, chosen_max_pos, my_return, margin_potential]\n",
    "\n",
    "    if results['X_lowest'].iloc[j] <= m:\n",
    "        min_success_counter += 1\n",
    "    if results['X_highest'].iloc[j] <= m:\n",
    "        max_success_counter += 1"
   ]
  },
  {
   "cell_type": "code",
   "execution_count": 9,
   "metadata": {},
   "outputs": [
    {
     "name": "stdout",
     "output_type": "stream",
     "text": [
      "      bought  day_of_min  X_lowest    sold  day_of_max  X_highest    return  \\\n",
      "6328  68.188        39.0       1.0  69.010        90.0       19.0  0.011965   \n",
      "6329  68.188        38.0       1.0  69.010        89.0       20.0  0.011964   \n",
      "6330  68.188        37.0       1.0  69.113        89.0       18.0  0.013463   \n",
      "6331  68.188        36.0       1.0  69.113        88.0       19.0  0.013462   \n",
      "6332  68.188        35.0       1.0  69.113        87.0       20.0  0.013461   \n",
      "\n",
      "      margin_potential  \n",
      "6328         67.211774  \n",
      "6329         67.211774  \n",
      "6330         75.633688  \n",
      "6331         75.633688  \n",
      "6332         75.633688  \n"
     ]
    }
   ],
   "source": [
    "print(results.tail())"
   ]
  },
  {
   "cell_type": "code",
   "execution_count": 10,
   "metadata": {},
   "outputs": [
    {
     "name": "stdout",
     "output_type": "stream",
     "text": [
      "        Date      Time    Close  positions\n",
      "0 2017-01-01  22:00:00  64.3460        0.0\n",
      "1 2017-01-01  23:00:00  64.3580        0.0\n",
      "2 2017-01-02  00:00:00  64.3610        0.0\n",
      "3 2017-01-02  01:00:00  64.7335        0.0\n",
      "4 2017-01-02  02:00:00  64.7369        0.0\n"
     ]
    }
   ],
   "source": [
    "print(signals.head())"
   ]
  },
  {
   "cell_type": "code",
   "execution_count": 11,
   "metadata": {
    "collapsed": true
   },
   "outputs": [],
   "source": [
    "signals = signals.set_index(['Date', 'Time'])"
   ]
  },
  {
   "cell_type": "code",
   "execution_count": 12,
   "metadata": {},
   "outputs": [
    {
     "data": {
      "text/plain": [
       " 0.0    6146\n",
       "-1.0     145\n",
       " 1.0     141\n",
       "Name: positions, dtype: int64"
      ]
     },
     "execution_count": 12,
     "metadata": {},
     "output_type": "execute_result"
    }
   ],
   "source": [
    "for i in range(len(signals)):\n",
    "    if signals['positions'].iloc[i]<-10:\n",
    "        signals['positions'].iloc[i] = -1        \n",
    "        \n",
    "    elif signals['positions'].iloc[i]>10:\n",
    "        signals['positions'].iloc[i] = 1\n",
    "        \n",
    "    else:\n",
    "        signals['positions'].iloc[i] = 0\n",
    "        \n",
    "signals['positions'].value_counts()"
   ]
  },
  {
   "cell_type": "code",
   "execution_count": 13,
   "metadata": {},
   "outputs": [
    {
     "name": "stderr",
     "output_type": "stream",
     "text": [
      "C:\\ProgramData\\Anaconda3\\lib\\site-packages\\pandas\\core\\indexing.py:179: SettingWithCopyWarning: \n",
      "A value is trying to be set on a copy of a slice from a DataFrame\n",
      "\n",
      "See the caveats in the documentation: http://pandas.pydata.org/pandas-docs/stable/indexing.html#indexing-view-versus-copy\n",
      "  self._setitem_with_indexer(indexer, value)\n"
     ]
    },
    {
     "name": "stdout",
     "output_type": "stream",
     "text": [
      "                         eur  positions  holdings          cash         total  \\\n",
      "Date       Time                                                                 \n",
      "2017-12-29 23:00:00  69.1950        0.0       0.0  11520.444852  11520.444852   \n",
      "2017-12-30 00:00:00  69.2920        0.0       0.0  11520.444852  11520.444852   \n",
      "           01:00:00  69.1582        0.0       0.0  11520.444852  11520.444852   \n",
      "           02:00:00  69.1890        0.0       0.0  11520.444852  11520.444852   \n",
      "2017-12-31 22:00:00  69.2100        0.0       0.0  11520.444852  11520.444852   \n",
      "\n",
      "                      returns  \n",
      "Date       Time                \n",
      "2017-12-29 23:00:00  0.152044  \n",
      "2017-12-30 00:00:00  0.152044  \n",
      "           01:00:00  0.152044  \n",
      "           02:00:00  0.152044  \n",
      "2017-12-31 22:00:00  0.152044  \n"
     ]
    }
   ],
   "source": [
    "# Set the initial capital\n",
    "initial_capital= float(10000.0)\n",
    "\n",
    "# Create a DataFrame `portfolio`\n",
    "portfolio = pd.DataFrame(index=signals.index).fillna(0.0)\n",
    "\n",
    "portfolio['eur'] = signals['Close']\n",
    "portfolio['positions'] = signals['positions']\n",
    "\n",
    "portfolio['holdings'] = [0 for x in range(len(portfolio))]\n",
    "portfolio['cash'] = [0 for x in range(len(portfolio))]\n",
    "\n",
    "portfolio['cash'].iloc[0] = initial_capital\n",
    "\n",
    "#Buy or sell when the positions are generated\n",
    "for i in range(len(portfolio)):\n",
    "    if i!=0:\n",
    "        portfolio['cash'].iloc[i] = portfolio['cash'].iloc[i-1]\n",
    "        portfolio['holdings'].iloc[i] = portfolio['holdings'].iloc[i-1]\n",
    "    \n",
    "    cash = portfolio['cash'].iloc[i]\n",
    "    eur = portfolio['eur'].iloc[i]\n",
    "    positions = portfolio['positions'].iloc[i]\n",
    "    holdings = portfolio['holdings'].iloc[i]\n",
    "    \n",
    "    if positions == 1:\n",
    "        holdings += cash/eur\n",
    "        cash = 0\n",
    "    if positions == -1:\n",
    "        cash += holdings*eur\n",
    "        holdings = 0\n",
    "        \n",
    "    portfolio['cash'].iloc[i] = cash\n",
    "    portfolio['holdings'].iloc[i] = holdings\n",
    "    \n",
    "# Add `total` to portfolio\n",
    "portfolio['total'] = portfolio['cash'] + portfolio['holdings']*portfolio['eur']\n",
    "\n",
    "# Add `returns` to portfolio\n",
    "portfolio['returns'] = portfolio['total']/initial_capital-1\n",
    "portfolio.drop(['eur'], axis=1)\n",
    "# Print the first lines of `portfolio`\n",
    "print(portfolio.tail())"
   ]
  },
  {
   "cell_type": "code",
   "execution_count": 14,
   "metadata": {
    "collapsed": true
   },
   "outputs": [],
   "source": [
    "portfolio.to_excel('portfolio.xlsx')"
   ]
  },
  {
   "cell_type": "code",
   "execution_count": 15,
   "metadata": {},
   "outputs": [
    {
     "data": {
      "image/png": "[encoded data removed]",
      "text/plain": [
       "<matplotlib.figure.Figure at 0x1d1be38e0b8>"
      ]
     },
     "metadata": {},
     "output_type": "display_data"
    }
   ],
   "source": [
    "a=[]\n",
    "for i in range(len(portfolio)-3):\n",
    "    a.append(portfolio['total'].iloc[i])\n",
    "plt.plot(a)\n",
    "plt.show()"
   ]
  },
  {
   "cell_type": "code",
   "execution_count": null,
   "metadata": {
    "collapsed": true
   },
   "outputs": [],
   "source": []
  }
 ],
 "metadata": {
  "kernelspec": {
   "display_name": "Python 3",
   "language": "python",
   "name": "python3"
  },
  "language_info": {
   "codemirror_mode": {
    "name": "ipython",
    "version": 3
   },
   "file_extension": ".py",
   "mimetype": "text/x-python",
   "name": "python",
   "nbconvert_exporter": "python",
   "pygments_lexer": "ipython3",
   "version": "3.5.0"
  }
 },
 "nbformat": 4,
 "nbformat_minor": 2
}
